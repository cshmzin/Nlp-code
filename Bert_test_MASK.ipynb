{
  "nbformat": 4,
  "nbformat_minor": 0,
  "metadata": {
    "colab": {
      "name": "Bert-test-MASK",
      "provenance": [],
      "collapsed_sections": [],
      "authorship_tag": "ABX9TyNQSvn7pILTo2JLxi+7TKlI",
      "include_colab_link": true
    },
    "kernelspec": {
      "name": "python3",
      "display_name": "Python 3"
    }
  },
  "cells": [
    {
      "cell_type": "markdown",
      "metadata": {
        "id": "view-in-github",
        "colab_type": "text"
      },
      "source": [
        "<a href=\"https://colab.research.google.com/github/cshmzin/nlp-code/blob/main/Bert_test_MASK.ipynb\" target=\"_parent\"><img src=\"https://colab.research.google.com/assets/colab-badge.svg\" alt=\"Open In Colab\"/></a>"
      ]
    },
    {
      "cell_type": "code",
      "metadata": {
        "id": "Ta2CFVSUAeut"
      },
      "source": [
        "!pip install transformers tqdm boto3 requests regex -q\n",
        "import torch\n",
        "from transformers import BertTokenizer\n",
        "from IPython.display import clear_output\n",
        "\n",
        "PRETRAINED_MODEL_NAME = \"bert-base-chinese\"  # 指定为中文\n",
        "tokenizer = BertTokenizer.from_pretrained(PRETRAINED_MODEL_NAME)\n",
        "clear_output()"
      ],
      "execution_count": 25,
      "outputs": []
    },
    {
      "cell_type": "code",
      "metadata": {
        "colab": {
          "base_uri": "https://localhost:8080/"
        },
        "id": "W_rkOW6vClXF",
        "outputId": "49033323-24d5-48db-d7a1-c0b78c727b0d"
      },
      "source": [
        "vocab = tokenizer.vocab\n",
        "print(\"字典大小：\", len(vocab))"
      ],
      "execution_count": 26,
      "outputs": [
        {
          "output_type": "stream",
          "text": [
            "字典大小： 21128\n"
          ],
          "name": "stdout"
        }
      ]
    },
    {
      "cell_type": "code",
      "metadata": {
        "colab": {
          "base_uri": "https://localhost:8080/"
        },
        "id": "QlrKSEqIDgSD",
        "outputId": "b77c8201-93bb-48dc-c437-df1fe53881a3"
      },
      "source": [
        "#创建一个需要预测的语句\n",
        "text = \"[CLS] 中国的首都是 [MASK] 京\"\n",
        "tokens = tokenizer.tokenize(text)\n",
        "ids = tokenizer.convert_tokens_to_ids(tokens)\n",
        "print(text)\n",
        "print(tokens)\n",
        "print(ids)"
      ],
      "execution_count": 27,
      "outputs": [
        {
          "output_type": "stream",
          "text": [
            "[CLS] 中国的首都是 [MASK] 京\n",
            "['[CLS]', '中', '国', '的', '首', '都', '是', '[MASK]', '京']\n",
            "[101, 704, 1744, 4638, 7674, 6963, 3221, 103, 776]\n"
          ],
          "name": "stdout"
        }
      ]
    },
    {
      "cell_type": "code",
      "metadata": {
        "colab": {
          "base_uri": "https://localhost:8080/"
        },
        "id": "NslgLJe4EQxN",
        "outputId": "2ccfcaf4-5f93-46a8-f9c0-03967663e73d"
      },
      "source": [
        "from transformers import BertForMaskedLM\n",
        "maskedLM_model = BertForMaskedLM.from_pretrained(PRETRAINED_MODEL_NAME)\n",
        "clear_output()\n",
        "\n",
        "tokens_tensor = torch.tensor([ids])\n",
        "segments_tensors = torch.zeros_like(tokens_tensor)#构造输出(全为0,格式与输入一样)\n",
        "\n",
        "maskedLM_model.eval()\n",
        "with torch.no_grad():\n",
        "    outputs = maskedLM_model(tokens_tensor, segments_tensors)\n",
        "    predictions = outputs[0] # (1, seq_len, num_hidden_dim)\n",
        "del maskedLM_model\n",
        "\n",
        "masked_index = 7\n",
        "k = 3\n",
        "probs, indices = torch.topk(torch.softmax(predictions[0, masked_index], -1), k)\n",
        "predicted_tokens = tokenizer.convert_ids_to_tokens(indices.tolist())\n",
        "\n",
        "for p,t in zip(probs,predicted_tokens):\n",
        "  print(f\"{t}:{int(p*100)}%\")\n"
      ],
      "execution_count": 28,
      "outputs": [
        {
          "output_type": "stream",
          "text": [
            "北:90%\n",
            "南:9%\n",
            "东:0%\n"
          ],
          "name": "stdout"
        }
      ]
    },
    {
      "cell_type": "code",
      "metadata": {
        "colab": {
          "base_uri": "https://localhost:8080/"
        },
        "id": "hTgZmzpjE2hu",
        "outputId": "48f931eb-a861-42d8-fafc-855a6570b029"
      },
      "source": [
        "import re\n",
        "final_text = re.sub('\\[MASK\\]',predicted_tokens[0],text)\n",
        "print(final_text)"
      ],
      "execution_count": 29,
      "outputs": [
        {
          "output_type": "stream",
          "text": [
            "[CLS] 中国的首都是 北 京\n"
          ],
          "name": "stdout"
        }
      ]
    },
    {
      "cell_type": "code",
      "metadata": {
        "id": "CUB_AuvGQU35"
      },
      "source": [
        ""
      ],
      "execution_count": 29,
      "outputs": []
    }
  ]
}