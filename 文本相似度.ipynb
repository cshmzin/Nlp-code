{
  "nbformat": 4,
  "nbformat_minor": 0,
  "metadata": {
    "colab": {
      "name": "文本相似度.ipynb",
      "provenance": [],
      "collapsed_sections": [],
      "authorship_tag": "ABX9TyPjHfDUsbHAqlZ3tdhkfE31",
      "include_colab_link": true
    },
    "kernelspec": {
      "name": "python3",
      "display_name": "Python 3"
    },
    "language_info": {
      "name": "python"
    },
    "accelerator": "GPU"
  },
  "cells": [
    {
      "cell_type": "markdown",
      "metadata": {
        "id": "view-in-github",
        "colab_type": "text"
      },
      "source": [
        "<a href=\"https://colab.research.google.com/github/cshmzin/nlp-code/blob/main/%E6%96%87%E6%9C%AC%E7%9B%B8%E4%BC%BC%E5%BA%A6.ipynb\" target=\"_parent\"><img src=\"https://colab.research.google.com/assets/colab-badge.svg\" alt=\"Open In Colab\"/></a>"
      ]
    },
    {
      "cell_type": "code",
      "metadata": {
        "id": "IlOggtdnmf7t",
        "colab": {
          "base_uri": "https://localhost:8080/",
          "height": 240
        },
        "outputId": "b2c5edff-91a6-4143-81fa-7ebde39d0e2a"
      },
      "source": [
        "import pandas as pd\n",
        "\n",
        "df_train = pd.read_csv(\"train_1.csv\",delimiter=\"\\t\",header=None)\n",
        "df_test = pd.read_csv(\"test_1.csv\",delimiter=\"\\t\",header=None)\n",
        "\n",
        "print(\"训练样本数量：\", len(df_train))\n",
        "print(\"测试样本数量：\", len(df_test))\n",
        "\n",
        "df_train.head()\n",
        "df_test.head()"
      ],
      "execution_count": 27,
      "outputs": [
        {
          "output_type": "stream",
          "name": "stdout",
          "text": [
            "训练样本数量： 5000\n",
            "测试样本数量： 5000\n"
          ]
        },
        {
          "output_type": "execute_result",
          "data": {
            "text/html": [
              "<div>\n",
              "<style scoped>\n",
              "    .dataframe tbody tr th:only-of-type {\n",
              "        vertical-align: middle;\n",
              "    }\n",
              "\n",
              "    .dataframe tbody tr th {\n",
              "        vertical-align: top;\n",
              "    }\n",
              "\n",
              "    .dataframe thead th {\n",
              "        text-align: right;\n",
              "    }\n",
              "</style>\n",
              "<table border=\"1\" class=\"dataframe\">\n",
              "  <thead>\n",
              "    <tr style=\"text-align: right;\">\n",
              "      <th></th>\n",
              "      <th>0</th>\n",
              "      <th>1</th>\n",
              "    </tr>\n",
              "  </thead>\n",
              "  <tbody>\n",
              "    <tr>\n",
              "      <th>0</th>\n",
              "      <td>玩梦幻西游能赚钱吗</td>\n",
              "      <td>梦幻西游2不花钱能玩吗</td>\n",
              "    </tr>\n",
              "    <tr>\n",
              "      <th>1</th>\n",
              "      <td>夏天去什么地方旅游好</td>\n",
              "      <td>夏季去什么地方旅游最好（国内的地方）</td>\n",
              "    </tr>\n",
              "    <tr>\n",
              "      <th>2</th>\n",
              "      <td>为什么梦幻西游网站打不开</td>\n",
              "      <td>为什么下载梦幻西游游戏补丁网页打不开</td>\n",
              "    </tr>\n",
              "    <tr>\n",
              "      <th>3</th>\n",
              "      <td>这对双胞胎像不</td>\n",
              "      <td>像这样的可爱卡通图片要男的谢了</td>\n",
              "    </tr>\n",
              "    <tr>\n",
              "      <th>4</th>\n",
              "      <td>免费网络游戏都有哪些?</td>\n",
              "      <td>有哪些免费的网络游戏</td>\n",
              "    </tr>\n",
              "  </tbody>\n",
              "</table>\n",
              "</div>"
            ],
            "text/plain": [
              "              0                   1\n",
              "0     玩梦幻西游能赚钱吗         梦幻西游2不花钱能玩吗\n",
              "1    夏天去什么地方旅游好  夏季去什么地方旅游最好（国内的地方）\n",
              "2  为什么梦幻西游网站打不开  为什么下载梦幻西游游戏补丁网页打不开\n",
              "3       这对双胞胎像不     像这样的可爱卡通图片要男的谢了\n",
              "4   免费网络游戏都有哪些?          有哪些免费的网络游戏"
            ]
          },
          "metadata": {},
          "execution_count": 27
        }
      ]
    },
    {
      "cell_type": "code",
      "metadata": {
        "colab": {
          "base_uri": "https://localhost:8080/"
        },
        "id": "jGiE725gVMvd",
        "outputId": "7a6e1d3e-66e1-4484-a567-94a13c31b088"
      },
      "source": [
        "from torch.utils.data import Dataset\n",
        "#!pip install transformers tqdm\n",
        "from transformers import BertTokenizer\n",
        "#!pip install pysnooper -q\n",
        "import pysnooper\n",
        "import torch\n",
        "\n",
        "PRETRAINED_MODEL_NAME = \"hfl/chinese-roberta-wwm-ext\"  \n",
        "tokenizer = BertTokenizer.from_pretrained(PRETRAINED_MODEL_NAME)\n",
        "\n",
        "class FakeNewsDataset(Dataset):\n",
        "    def __init__(self, mode, tokenizer,Frist,End):\n",
        "        assert mode in [\"train\", \"test\"]\n",
        "        self.mode = mode\n",
        "        self.df = pd.read_csv(f\"{self.mode}_1.csv\",delimiter=\"\\t\",header=None).iloc[Frist:End,:]\n",
        "        self.tokenizer = tokenizer  #使用 BERT tokenizer\n",
        "\n",
        "    #@pysnooper.snoop()  # 加入以了解所有转换过程\n",
        "    def __getitem__(self, idx):\n",
        "        if self.mode == \"test\":\n",
        "            text_a, text_b = self.df.iloc[idx, :2].values\n",
        "            label_tensor = None\n",
        "        else:\n",
        "            text_a, text_b, label = self.df.iloc[idx, :].values\n",
        "            label_tensor = torch.tensor(label)\n",
        "            \n",
        "        word_pieces = [\"[CLS]\"]\n",
        "        tokens_a = self.tokenizer.tokenize(text_a)\n",
        "        word_pieces += tokens_a + [\"[SEP]\"]\n",
        "        len_a = len(word_pieces)\n",
        "        \n",
        "        tokens_b = self.tokenizer.tokenize(text_b)\n",
        "        word_pieces += tokens_b + [\"[SEP]\"]\n",
        "        len_b = len(word_pieces) - len_a\n",
        "        \n",
        "        ids = self.tokenizer.convert_tokens_to_ids(word_pieces)\n",
        "        tokens_tensor = torch.tensor(ids)\n",
        "        \n",
        "        segments_tensor = torch.tensor([0] * len_a + [1] * len_b,dtype=torch.long)\n",
        "        \n",
        "        return (tokens_tensor, segments_tensor, label_tensor)\n",
        "    \n",
        "    def __len__(self):\n",
        "        return len(self.df)\n",
        "\n",
        "    def __iter__(self):\n",
        "        return iter(self.df)\n",
        "    \n",
        "trainset = FakeNewsDataset(\"train\",tokenizer,0,5000)\n",
        "devset = FakeNewsDataset(\"train\",tokenizer,4500,5000)\n",
        "testset = FakeNewsDataset(\"test\",tokenizer,0,5000)\n",
        "print(trainset[1])\n",
        "print(devset[1])\n",
        "print(testset[1])\n",
        "print(len(trainset),len(devset),len(testset))"
      ],
      "execution_count": 31,
      "outputs": [
        {
          "output_type": "stream",
          "name": "stdout",
          "text": [
            "(tensor([ 101, 2582,  720, 3118,  802, 2140, 5308, 2137, 7213, 6121, 1305, 8043,\n",
            "         102, 7213, 6121, 1305, 2582,  720, 5308, 2137, 3118,  802, 2140,  102]), tensor([0, 0, 0, 0, 0, 0, 0, 0, 0, 0, 0, 0, 0, 1, 1, 1, 1, 1, 1, 1, 1, 1, 1, 1]), tensor(1))\n",
            "(tensor([ 101,  711,  784,  720, 3766,  782, 4415, 2769,  102,  711,  784,  720,\n",
            "        3766,  782, 4415, 2769, 1450,  102]), tensor([0, 0, 0, 0, 0, 0, 0, 0, 0, 1, 1, 1, 1, 1, 1, 1, 1, 1]), tensor(1))\n",
            "(tensor([ 101, 1909, 1921, 1343,  784,  720, 1765, 3175, 3180, 3952, 1962,  102,\n",
            "        1909, 2108, 1343,  784,  720, 1765, 3175, 3180, 3952, 3297, 1962, 8020,\n",
            "        1744, 1079, 4638, 1765, 3175, 8021,  102]), tensor([0, 0, 0, 0, 0, 0, 0, 0, 0, 0, 0, 0, 1, 1, 1, 1, 1, 1, 1, 1, 1, 1, 1, 1,\n",
            "        1, 1, 1, 1, 1, 1, 1]), None)\n",
            "5000 500 5000\n"
          ]
        },
        {
          "output_type": "stream",
          "name": "stderr",
          "text": [
            "/usr/local/lib/python3.7/dist-packages/transformers/configuration_utils.py:337: UserWarning: Passing `gradient_checkpointing` to a config initialization is deprecated and will be removed in v5 Transformers. Using `model.gradient_checkpointing_enable()` instead, or if you are using the `Trainer` API, pass `gradient_checkpointing=True` in your `TrainingArguments`.\n",
            "  \"Passing `gradient_checkpointing` to a config initialization is deprecated and will be removed in v5 \"\n"
          ]
        }
      ]
    },
    {
      "cell_type": "code",
      "metadata": {
        "id": "5JHSAKVsYJii"
      },
      "source": [
        "from torch.utils.data import DataLoader\n",
        "from torch.nn.utils.rnn import pad_sequence\n",
        "\n",
        "def create_mini_batch(samples):\n",
        "    tokens_tensors = [s[0] for s in samples]\n",
        "    segments_tensors = [s[1] for s in samples]\n",
        "    \n",
        "    if samples[0][2] is not None:\n",
        "        label_ids = torch.stack([s[2] for s in samples])\n",
        "    else:\n",
        "        label_ids = None\n",
        "    \n",
        "    # zero pad 到同一序列长度\n",
        "    tokens_tensors = pad_sequence(tokens_tensors,batch_first=True)\n",
        "    segments_tensors = pad_sequence(segments_tensors,batch_first=True)\n",
        "    \n",
        "    # attention masks，将 tokens_tensors 不为 zero padding 的位置设为1\n",
        "    masks_tensors = torch.zeros(tokens_tensors.shape,dtype=torch.long)\n",
        "    masks_tensors = masks_tensors.masked_fill(tokens_tensors != 0, 1)\n",
        "    \n",
        "    return tokens_tensors, segments_tensors, masks_tensors, label_ids\n",
        "\n",
        "BATCH_SIZE = 64\n",
        "trainloader = DataLoader(trainset,batch_size=BATCH_SIZE,collate_fn=create_mini_batch)\n",
        "devloader = DataLoader(devset,batch_size=BATCH_SIZE,collate_fn=create_mini_batch)"
      ],
      "execution_count": 32,
      "outputs": []
    },
    {
      "cell_type": "code",
      "metadata": {
        "id": "ma_sNS1WYywK"
      },
      "source": [
        "from transformers import BertForSequenceClassification\n",
        "from IPython.display import clear_output\n",
        "PRETRAINED_MODEL_NAME = \"hfl/chinese-roberta-wwm-ext\"\n",
        "NUM_LABELS = 2\n",
        "\n",
        "model = BertForSequenceClassification.from_pretrained(\n",
        "    PRETRAINED_MODEL_NAME, num_labels=NUM_LABELS)\n",
        "\n",
        "clear_output()"
      ],
      "execution_count": 33,
      "outputs": []
    },
    {
      "cell_type": "code",
      "metadata": {
        "colab": {
          "base_uri": "https://localhost:8080/"
        },
        "id": "xVEunS2DYz45",
        "outputId": "1f174a57-9747-4cb8-ed44-d44c567ce729"
      },
      "source": [
        "def get_predictions(model, dataloader, compute_acc=False):\n",
        "    predictions = None\n",
        "    correct = 0\n",
        "    total = 0\n",
        "      \n",
        "    with torch.no_grad():\n",
        "        for data in dataloader:\n",
        "            if next(model.parameters()).is_cuda:\n",
        "                data = [t.to(\"cuda:0\") for t in data if t is not None]\n",
        "            \n",
        "            tokens_tensors, segments_tensors, masks_tensors = data[:3]\n",
        "            outputs = model(input_ids=tokens_tensors,token_type_ids=segments_tensors,attention_mask=masks_tensors)\n",
        "            \n",
        "            logits = outputs[0]\n",
        "            _, pred = torch.max(logits.data, 1)\n",
        "            \n",
        "            if compute_acc:\n",
        "                labels = data[3]\n",
        "                total += labels.size(0)\n",
        "                correct += (pred == labels).sum().item()\n",
        "                \n",
        "            if predictions is None:\n",
        "                predictions = pred\n",
        "            else:\n",
        "                predictions = torch.cat((predictions, pred))\n",
        "    \n",
        "    if compute_acc:\n",
        "        acc = correct / total\n",
        "        return predictions, acc\n",
        "    return predictions\n",
        "    \n",
        "device = torch.device(\"cuda:0\" if torch.cuda.is_available() else \"cpu\")\n",
        "print(\"device:\", device)\n",
        "model = model.to(device)\n",
        "_, acc = get_predictions(model, devloader, compute_acc=True)\n",
        "print(\"classification acc:\", acc)"
      ],
      "execution_count": 34,
      "outputs": [
        {
          "output_type": "stream",
          "name": "stdout",
          "text": [
            "device: cuda:0\n",
            "classification acc: 0.58\n"
          ]
        }
      ]
    },
    {
      "cell_type": "code",
      "metadata": {
        "colab": {
          "base_uri": "https://localhost:8080/"
        },
        "id": "SdvNvzRnZLoC",
        "outputId": "a4b59a34-fc25-4039-a02b-4251d0431617"
      },
      "source": [
        "optimizer = torch.optim.Adam(model.parameters(), lr=1e-5)\n",
        "EPOCHS = 10\n",
        "for epoch in range(EPOCHS):  \n",
        "    running_loss = 0.0\n",
        "    model.train()\n",
        "    for data in trainloader:\n",
        "        tokens_tensors, segments_tensors, \\\n",
        "        masks_tensors, labels = [t.to(device) for t in data]\n",
        "        optimizer.zero_grad()\n",
        "        outputs = model(input_ids=tokens_tensors, \n",
        "                        token_type_ids=segments_tensors, \n",
        "                        attention_mask=masks_tensors, \n",
        "                        labels=labels)\n",
        "\n",
        "        loss = outputs[0]\n",
        "        loss.backward()\n",
        "        optimizer.step()\n",
        "        running_loss += loss.item()\n",
        "    \n",
        "    model.eval()    \n",
        "    _, train_acc = get_predictions(model, trainloader, compute_acc=True)\n",
        "    _, dev_acc = get_predictions(model, devloader, compute_acc=True)\n",
        "    print('[epoch %d] loss: %.3f, train_acc: %.3f, test_acc: %.3f' %\n",
        "          (epoch + 1, running_loss,train_acc,dev_acc))"
      ],
      "execution_count": 35,
      "outputs": [
        {
          "output_type": "stream",
          "name": "stdout",
          "text": [
            "[epoch 1] loss: 41.268, train_acc: 0.897, test_acc: 0.924\n",
            "[epoch 2] loss: 20.328, train_acc: 0.935, test_acc: 0.962\n",
            "[epoch 3] loss: 14.267, train_acc: 0.964, test_acc: 0.982\n",
            "[epoch 4] loss: 10.423, train_acc: 0.966, test_acc: 0.990\n",
            "[epoch 5] loss: 7.688, train_acc: 0.922, test_acc: 0.988\n",
            "[epoch 6] loss: 7.974, train_acc: 0.902, test_acc: 0.968\n",
            "[epoch 7] loss: 6.147, train_acc: 0.982, test_acc: 0.992\n",
            "[epoch 8] loss: 4.148, train_acc: 0.996, test_acc: 0.994\n",
            "[epoch 9] loss: 2.102, train_acc: 0.998, test_acc: 0.996\n",
            "[epoch 10] loss: 1.252, train_acc: 0.999, test_acc: 0.996\n"
          ]
        }
      ]
    },
    {
      "cell_type": "code",
      "metadata": {
        "colab": {
          "base_uri": "https://localhost:8080/",
          "height": 204
        },
        "id": "S8YSGA-kad40",
        "outputId": "a3e7ee74-b7f8-414d-9759-089a37f63f54"
      },
      "source": [
        "testloader = DataLoader(testset, batch_size=256, \n",
        "                        collate_fn=create_mini_batch)\n",
        "predictions = get_predictions(model, testloader)\n",
        "\n",
        "df = pd.DataFrame({\"Category\": predictions.tolist()})\n",
        "\n",
        "df.to_csv('bert_1_prec_training_samples.csv', index=False)\n",
        "df.head()"
      ],
      "execution_count": 36,
      "outputs": [
        {
          "output_type": "execute_result",
          "data": {
            "text/html": [
              "<div>\n",
              "<style scoped>\n",
              "    .dataframe tbody tr th:only-of-type {\n",
              "        vertical-align: middle;\n",
              "    }\n",
              "\n",
              "    .dataframe tbody tr th {\n",
              "        vertical-align: top;\n",
              "    }\n",
              "\n",
              "    .dataframe thead th {\n",
              "        text-align: right;\n",
              "    }\n",
              "</style>\n",
              "<table border=\"1\" class=\"dataframe\">\n",
              "  <thead>\n",
              "    <tr style=\"text-align: right;\">\n",
              "      <th></th>\n",
              "      <th>Category</th>\n",
              "    </tr>\n",
              "  </thead>\n",
              "  <tbody>\n",
              "    <tr>\n",
              "      <th>0</th>\n",
              "      <td>0</td>\n",
              "    </tr>\n",
              "    <tr>\n",
              "      <th>1</th>\n",
              "      <td>1</td>\n",
              "    </tr>\n",
              "    <tr>\n",
              "      <th>2</th>\n",
              "      <td>0</td>\n",
              "    </tr>\n",
              "    <tr>\n",
              "      <th>3</th>\n",
              "      <td>0</td>\n",
              "    </tr>\n",
              "    <tr>\n",
              "      <th>4</th>\n",
              "      <td>1</td>\n",
              "    </tr>\n",
              "  </tbody>\n",
              "</table>\n",
              "</div>"
            ],
            "text/plain": [
              "   Category\n",
              "0         0\n",
              "1         1\n",
              "2         0\n",
              "3         0\n",
              "4         1"
            ]
          },
          "metadata": {},
          "execution_count": 36
        }
      ]
    },
    {
      "cell_type": "code",
      "metadata": {
        "id": "vASRX81RsgvY"
      },
      "source": [
        ""
      ],
      "execution_count": null,
      "outputs": []
    }
  ]
}